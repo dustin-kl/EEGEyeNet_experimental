{
 "metadata": {
  "language_info": {
   "codemirror_mode": {
    "name": "ipython",
    "version": 3
   },
   "file_extension": ".py",
   "mimetype": "text/x-python",
   "name": "python",
   "nbconvert_exporter": "python",
   "pygments_lexer": "ipython3",
   "version": "3.8.10"
  },
  "orig_nbformat": 4,
  "kernelspec": {
   "name": "python3",
   "display_name": "Python 3.8.10 64-bit ('tencu10': conda)"
  },
  "interpreter": {
   "hash": "8f5344764e0f04bcce31bbc52a3121fca7ea29968e43bd4760ac320bb9577d79"
  }
 },
 "nbformat": 4,
 "nbformat_minor": 2,
 "cells": [
  {
   "cell_type": "code",
   "execution_count": 29,
   "metadata": {},
   "outputs": [],
   "source": [
    "import numpy as np \n",
    "import math \n",
    "import copy \n",
    "import pandas as pd\n",
    "from tqdm import tqdm"
   ]
  },
  {
   "cell_type": "code",
   "execution_count": 30,
   "metadata": {},
   "outputs": [],
   "source": [
    "dataset = 'antisaccade'"
   ]
  },
  {
   "cell_type": "code",
   "execution_count": 47,
   "metadata": {},
   "outputs": [],
   "source": [
    "#X = np.load('./data/LR_task_with_antisaccade_synchronised_min_hilbert.npz')['EEG']\n",
    "X = np.load('./data/LR_task_with_antisaccade_synchronised_min.npz')['EEG']\n",
    "y = np.load('./data/LR_task_with_antisaccade_synchronised_min_hilbert_clustering.npz')['labels']"
   ]
  },
  {
   "cell_type": "code",
   "execution_count": 48,
   "metadata": {},
   "outputs": [
    {
     "output_type": "execute_result",
     "data": {
      "text/plain": [
       "(30842, 500, 129)"
      ]
     },
     "metadata": {},
     "execution_count": 48
    }
   ],
   "source": [
    "X.shape "
   ]
  },
  {
   "cell_type": "code",
   "execution_count": 49,
   "metadata": {},
   "outputs": [
    {
     "output_type": "execute_result",
     "data": {
      "text/plain": [
       "(30842, 3)"
      ]
     },
     "metadata": {},
     "execution_count": 49
    }
   ],
   "source": [
    "y.shape"
   ]
  },
  {
   "cell_type": "code",
   "execution_count": 50,
   "metadata": {},
   "outputs": [
    {
     "output_type": "execute_result",
     "data": {
      "text/plain": [
       "array([['1', '0', 'AA0'],\n",
       "       ['1', '1', 'AA0'],\n",
       "       ['1', '1', 'AA0'],\n",
       "       ...,\n",
       "       ['329', '1', 'BZ9'],\n",
       "       ['329', '0', 'BZ9'],\n",
       "       ['329', '0', 'BZ9']], dtype='<U21')"
      ]
     },
     "metadata": {},
     "execution_count": 50
    }
   ],
   "source": [
    "y"
   ]
  },
  {
   "cell_type": "code",
   "execution_count": 51,
   "metadata": {},
   "outputs": [
    {
     "output_type": "execute_result",
     "data": {
      "text/plain": [
       "array(['AA0', 'AA0', 'AA0', ..., 'BZ9', 'BZ9', 'BZ9'], dtype='<U21')"
      ]
     },
     "metadata": {},
     "execution_count": 51
    }
   ],
   "source": [
    "names = y.T[2]\n",
    "#names = names[indices]\n",
    "names"
   ]
  },
  {
   "cell_type": "code",
   "execution_count": 52,
   "metadata": {},
   "outputs": [],
   "source": [
    "df = pd.read_excel('participants_concat.xlsx')"
   ]
  },
  {
   "cell_type": "code",
   "execution_count": 53,
   "metadata": {
    "tags": []
   },
   "outputs": [
    {
     "output_type": "stream",
     "name": "stderr",
     "text": [
      "100%|██████████| 30842/30842 [01:11<00:00, 432.24it/s]\n"
     ]
    },
    {
     "output_type": "execute_result",
     "data": {
      "text/plain": [
       "286"
      ]
     },
     "metadata": {},
     "execution_count": 53
    }
   ],
   "source": [
    "new_labels = []\n",
    "binary_age_labels = []\n",
    "new_X = []\n",
    "skipped = 0\n",
    "for i in tqdm(range(len(names))):\n",
    "    #print(np.array(df.loc[df['Subject'] == names[i]]['Age']))\n",
    "    if len(np.array(df.loc[df['Subject'] == names[i]]['Age'])) > 0:\n",
    "        new_labels.append([float(y[i][0]), float(np.array(df.loc[df['Subject'] == names[i]]['Age'])[0])]) \n",
    "        new_X.append(X[i])\n",
    "        binary_age_labels.append([float(y[i][0]), 0 if float(np.array(df.loc[df['Subject'] == names[i]]['Age'])[0])/365 <= 35 else 1])\n",
    "    else: \n",
    "        skipped += 1\n",
    "\n",
    "skipped"
   ]
  },
  {
   "cell_type": "code",
   "execution_count": 54,
   "metadata": {},
   "outputs": [
    {
     "output_type": "execute_result",
     "data": {
      "text/plain": [
       "array([[1.0000e+00, 2.6863e+04],\n",
       "       [1.0000e+00, 2.6863e+04],\n",
       "       [1.0000e+00, 2.6863e+04],\n",
       "       ...,\n",
       "       [3.2900e+02, 2.5943e+04],\n",
       "       [3.2900e+02, 2.5943e+04],\n",
       "       [3.2900e+02, 2.5943e+04]])"
      ]
     },
     "metadata": {},
     "execution_count": 54
    }
   ],
   "source": [
    "np_labels = np.array(new_labels)\n",
    "np_X = np.array(new_X)\n",
    "np_labels"
   ]
  },
  {
   "cell_type": "code",
   "execution_count": 58,
   "metadata": {},
   "outputs": [
    {
     "output_type": "execute_result",
     "data": {
      "text/plain": [
       "(30556, 500, 129)"
      ]
     },
     "metadata": {},
     "execution_count": 58
    }
   ],
   "source": [
    "np_X.shape"
   ]
  },
  {
   "cell_type": "code",
   "execution_count": 56,
   "metadata": {},
   "outputs": [],
   "source": [
    "np.savez(\"./data/Age_task_with_antisaccade_synchronised_min.npz\", EEG=np_X, labels=np_labels)"
   ]
  },
  {
   "cell_type": "code",
   "execution_count": 63,
   "metadata": {},
   "outputs": [
    {
     "output_type": "execute_result",
     "data": {
      "text/plain": [
       "array([[  1.,   1.],\n",
       "       [  1.,   1.],\n",
       "       [  1.,   1.],\n",
       "       ...,\n",
       "       [329.,   1.],\n",
       "       [329.,   1.],\n",
       "       [329.,   1.]])"
      ]
     },
     "metadata": {},
     "execution_count": 63
    }
   ],
   "source": [
    "np_binary = np.array(binary_age_labels)\n",
    "np_binary"
   ]
  },
  {
   "cell_type": "code",
   "execution_count": null,
   "metadata": {},
   "outputs": [],
   "source": [
    "np.savez(\"./data/Age_task_binary_with_antisaccade_synchronised_min.npz\", EEG=np_X, labels=np_binary)"
   ]
  },
  {
   "cell_type": "code",
   "execution_count": null,
   "metadata": {},
   "outputs": [],
   "source": []
  }
 ]
}