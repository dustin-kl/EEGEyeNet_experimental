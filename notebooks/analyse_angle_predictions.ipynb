{
 "cells": [
  {
   "cell_type": "code",
   "execution_count": 1,
   "source": [
    "import numpy as np\n",
    "import math"
   ],
   "outputs": [],
   "metadata": {}
  },
  {
   "cell_type": "code",
   "execution_count": 2,
   "source": [
    "data = np.load('./data/Direction_task_with_dots_synchronised_min.npz')\n",
    "X = data['EEG']\n",
    "y = data['labels']"
   ],
   "outputs": [],
   "metadata": {}
  },
  {
   "cell_type": "code",
   "execution_count": 3,
   "source": [
    "scoring2 = (lambda y, y_pred: np.sqrt(np.mean(np.square(np.arctan2(np.sin(y - y_pred), np.cos(y - y_pred))))))"
   ],
   "outputs": [],
   "metadata": {}
  },
  {
   "cell_type": "code",
   "execution_count": 4,
   "source": [
    "cnn_pred = np.load('./runs/1631607045_Direction_task_dots_min_pytorch_patience_20_lr_1e-05/checkpoint/run1/CNN_pred.npz')"
   ],
   "outputs": [],
   "metadata": {}
  },
  {
   "cell_type": "code",
   "execution_count": 5,
   "source": [
    "pred = cnn_pred['pred']"
   ],
   "outputs": [],
   "metadata": {}
  },
  {
   "cell_type": "code",
   "execution_count": 6,
   "source": [
    "import math \n",
    "\n",
    "def split(ids, train, val, test):\n",
    "    assert (train+val+test == 1)\n",
    "    IDs = np.unique(ids)\n",
    "    num_ids = len(IDs)\n",
    "\n",
    "    # priority given to the test/val sets\n",
    "    test_split = math.ceil(test * num_ids)\n",
    "    val_split = math.ceil(val * num_ids)\n",
    "    train_split = num_ids - val_split - test_split\n",
    "\n",
    "    train = np.isin(ids, IDs[:train_split])\n",
    "    val = np.isin(ids, IDs[train_split:train_split+val_split])\n",
    "    test = np.isin(ids, IDs[train_split+val_split:])\n",
    "\n",
    "    return train, val, test"
   ],
   "outputs": [],
   "metadata": {}
  },
  {
   "cell_type": "code",
   "execution_count": 7,
   "source": [
    "trainX = X \n",
    "trainY = y\n",
    "ids = trainY[:, 0]"
   ],
   "outputs": [],
   "metadata": {}
  },
  {
   "cell_type": "code",
   "execution_count": 8,
   "source": [
    "train, val, test = split(ids, 0.7, 0.15, 0.15)\n",
    "X_train, y_train = trainX[train], trainY[train]\n",
    "X_val, y_val = trainX[val], trainY[val]\n",
    "X_test, y_test = trainX[test], trainY[test]"
   ],
   "outputs": [],
   "metadata": {}
  },
  {
   "cell_type": "code",
   "execution_count": 9,
   "source": [
    "labels = y_test[:,2]\n",
    "labels"
   ],
   "outputs": [
    {
     "output_type": "execute_result",
     "data": {
      "text/plain": [
       "array([ 0.6388761 , -2.24920304, -0.01477896, ...,  2.88190077,\n",
       "        2.88778389,  2.75649705])"
      ]
     },
     "metadata": {},
     "execution_count": 9
    }
   ],
   "metadata": {}
  },
  {
   "cell_type": "code",
   "execution_count": 10,
   "source": [
    "len(pred)"
   ],
   "outputs": [
    {
     "output_type": "execute_result",
     "data": {
      "text/plain": [
       "4075"
      ]
     },
     "metadata": {},
     "execution_count": 10
    }
   ],
   "metadata": {}
  },
  {
   "cell_type": "code",
   "execution_count": 11,
   "source": [
    "len(y)"
   ],
   "outputs": [
    {
     "output_type": "execute_result",
     "data": {
      "text/plain": [
       "29714"
      ]
     },
     "metadata": {},
     "execution_count": 11
    }
   ],
   "metadata": {}
  },
  {
   "cell_type": "code",
   "execution_count": null,
   "source": [],
   "outputs": [],
   "metadata": {}
  },
  {
   "cell_type": "code",
   "execution_count": 18,
   "source": [
    "# note that min(labels) = -3.14 and max(labels) = 3.14\n",
    "NUM_DIRS = 4\n",
    "\n",
    "bins = [[] for i in range(4)]\n",
    "strings = [\"bin 0: pi/4 to -pi/4, i.e. horizontal right\", \n",
    "\"bin 1: pi/4 to 3/4 pi, i.e. vertical up\",\n",
    "\"bin 2: 3/4 pi to 5/4 pi = -3/4 pi, i.e. horizontal left\",\n",
    "\"bin 3: 5/4 pi = -3/4 pi to -pi/4 = 7/4 pi, i.e. vertical down\"]\n",
    "for i in range(len(labels)):\n",
    "\tlabel = labels[i]\n",
    "\tif label > - math.pi/ 4 and label<= math.pi / 4:\n",
    "\t\tbins[0].append(scoring2(label, pred[i][0]))\n",
    "\telif label > math.pi/4 and label <= 0.75 * math.pi:\n",
    "\t\tbins[1].append(scoring2(label, pred[i][0]))\n",
    "\telif label > 0.75 * math.pi or label <= -0.75 * math.pi:\n",
    "\t\tbins[2].append(scoring2(label, pred[i][0]))\n",
    "\telif label > -0.75 * math.pi and label <= -math.pi/4:\n",
    "\t\tbins[3].append(scoring2(label, pred[i][0]))"
   ],
   "outputs": [],
   "metadata": {}
  },
  {
   "cell_type": "code",
   "execution_count": 19,
   "source": [
    "sum([len(list) for list in bins])"
   ],
   "outputs": [
    {
     "output_type": "execute_result",
     "data": {
      "text/plain": [
       "4075"
      ]
     },
     "metadata": {},
     "execution_count": 19
    }
   ],
   "metadata": {}
  },
  {
   "cell_type": "code",
   "execution_count": 20,
   "source": [
    "for list, string in zip(bins, strings):\n",
    "\tprint(f\"{string}: mean angle error {np.average(np.array(list)):.3f}, std: {np.std(np.array(list)):2f}, on {len(list)} samples\")"
   ],
   "outputs": [
    {
     "output_type": "stream",
     "name": "stdout",
     "text": [
      "bin 0: pi/4 to -pi/4, i.e. horizontal right: mean angle error 0.229, std: 0.220355, on 1215 samples\n",
      "bin 1: pi/4 to 3/4 pi, i.e. vertical up: mean angle error 0.271, std: 0.329660, on 669 samples\n",
      "bin 2: 3/4 pi to 5/4 pi = -3/4 pi, i.e. horizontal left: mean angle error 0.188, std: 0.205688, on 1358 samples\n",
      "bin 3: 5/4 pi = -3/4 pi to -pi/4 = 7/4 pi, i.e. vertical down: mean angle error 0.284, std: 0.386571, on 833 samples\n"
     ]
    }
   ],
   "metadata": {}
  },
  {
   "cell_type": "code",
   "execution_count": null,
   "source": [],
   "outputs": [],
   "metadata": {}
  }
 ],
 "metadata": {
  "orig_nbformat": 4,
  "language_info": {
   "name": "python",
   "version": "3.8.10",
   "mimetype": "text/x-python",
   "codemirror_mode": {
    "name": "ipython",
    "version": 3
   },
   "pygments_lexer": "ipython3",
   "nbconvert_exporter": "python",
   "file_extension": ".py"
  },
  "kernelspec": {
   "name": "python3",
   "display_name": "Python 3.8.10 64-bit ('tencu10': conda)"
  },
  "interpreter": {
   "hash": "8f5344764e0f04bcce31bbc52a3121fca7ea29968e43bd4760ac320bb9577d79"
  }
 },
 "nbformat": 4,
 "nbformat_minor": 2
}