{
 "metadata": {
  "language_info": {
   "codemirror_mode": {
    "name": "ipython",
    "version": 3
   },
   "file_extension": ".py",
   "mimetype": "text/x-python",
   "name": "python",
   "nbconvert_exporter": "python",
   "pygments_lexer": "ipython3",
   "version": "3.8.10"
  },
  "orig_nbformat": 4,
  "kernelspec": {
   "name": "python3",
   "display_name": "Python 3.8.10 64-bit ('tencu10': conda)"
  },
  "interpreter": {
   "hash": "8f5344764e0f04bcce31bbc52a3121fca7ea29968e43bd4760ac320bb9577d79"
  }
 },
 "nbformat": 4,
 "nbformat_minor": 2,
 "cells": [
  {
   "cell_type": "code",
   "execution_count": 1,
   "source": [
    "import numpy as np \n",
    "import pandas as pd \n",
    "from sklearn.cluster import KMeans, DBSCAN"
   ],
   "outputs": [],
   "metadata": {}
  },
  {
   "cell_type": "markdown",
   "source": [
    "## Prepare data and labels "
   ],
   "metadata": {}
  },
  {
   "cell_type": "code",
   "execution_count": 2,
   "source": [
    "dataset = 'antisaccade'\n",
    "#dataset = 'processing_speed'"
   ],
   "outputs": [],
   "metadata": {}
  },
  {
   "cell_type": "code",
   "execution_count": 3,
   "source": [
    "if dataset == 'antisaccade':\n",
    "    data = np.load('./data/LR_task_with_antisaccade_synchronised_min_hilbert.npz')\n",
    "    data_y = np.load('./data/LR_task_with_antisaccade_synchronised_min_hilbert_clustering.npz')\n",
    "elif dataset == 'processing_speed':\n",
    "    data = np.load('./data/Direction_task_with_processing_speed_synchronised_min_hilbert.npz')\n",
    "    data_y = np.load('./data/Direction_task_with_processing_speed_synchronised_min_hilbert_clustering.npz')\n",
    "X = data['EEG']\n",
    "y = data_y['labels']"
   ],
   "outputs": [],
   "metadata": {}
  },
  {
   "cell_type": "code",
   "execution_count": 4,
   "source": [
    "# Run this when using the features extracted by a CNN on age regression task \n",
    "#X = np.load(\"features_antisaccade_age.npy\")"
   ],
   "outputs": [],
   "metadata": {}
  },
  {
   "cell_type": "code",
   "execution_count": 5,
   "source": [
    "num_samples, dummy_dim, features = X.shape\n",
    "X.shape"
   ],
   "outputs": [
    {
     "output_type": "execute_result",
     "data": {
      "text/plain": [
       "(30842, 1, 258)"
      ]
     },
     "metadata": {},
     "execution_count": 5
    }
   ],
   "metadata": {}
  },
  {
   "cell_type": "code",
   "execution_count": 6,
   "source": [
    "X = X.reshape((num_samples, dummy_dim*features))"
   ],
   "outputs": [],
   "metadata": {}
  },
  {
   "cell_type": "code",
   "execution_count": 7,
   "source": [
    "X.shape"
   ],
   "outputs": [
    {
     "output_type": "execute_result",
     "data": {
      "text/plain": [
       "(30842, 258)"
      ]
     },
     "metadata": {},
     "execution_count": 7
    }
   ],
   "metadata": {}
  },
  {
   "cell_type": "code",
   "execution_count": 8,
   "source": [
    "y.shape"
   ],
   "outputs": [
    {
     "output_type": "execute_result",
     "data": {
      "text/plain": [
       "(30842, 3)"
      ]
     },
     "metadata": {},
     "execution_count": 8
    }
   ],
   "metadata": {}
  },
  {
   "cell_type": "code",
   "execution_count": 9,
   "source": [
    "labels = y[:,1]\n",
    "labels"
   ],
   "outputs": [
    {
     "output_type": "execute_result",
     "data": {
      "text/plain": [
       "array(['0', '1', '1', ..., '1', '0', '0'], dtype='<U21')"
      ]
     },
     "metadata": {},
     "execution_count": 9
    }
   ],
   "metadata": {}
  },
  {
   "cell_type": "code",
   "execution_count": 10,
   "source": [
    "INDEX = 'all'\n",
    "#indices = np.where(labels==INDEX)\n",
    "#indices"
   ],
   "outputs": [],
   "metadata": {}
  },
  {
   "cell_type": "code",
   "execution_count": 11,
   "source": [
    "#X = X[indices]\n",
    "#len(X)"
   ],
   "outputs": [],
   "metadata": {}
  },
  {
   "cell_type": "code",
   "execution_count": 12,
   "source": [
    "names = y.T[2 if dataset=='antisaccade' else 3]\n",
    "#names = names[indices]\n",
    "names"
   ],
   "outputs": [
    {
     "output_type": "execute_result",
     "data": {
      "text/plain": [
       "array(['AA0', 'AA0', 'AA0', ..., 'BZ9', 'BZ9', 'BZ9'], dtype='<U21')"
      ]
     },
     "metadata": {},
     "execution_count": 12
    }
   ],
   "metadata": {}
  },
  {
   "cell_type": "markdown",
   "source": [
    "## Perform clustering "
   ],
   "metadata": {}
  },
  {
   "cell_type": "code",
   "execution_count": 33,
   "source": [
    "NUM_CLUSTERS = 3"
   ],
   "outputs": [],
   "metadata": {}
  },
  {
   "cell_type": "code",
   "execution_count": 34,
   "source": [
    "kmeans = KMeans(n_clusters=NUM_CLUSTERS, random_state=0).fit(X)\n",
    "cluster_labels = kmeans.labels_ \n",
    "\n",
    "#clustering = DBSCAN(eps=1e4, min_samples=2).fit(X)\n",
    "#cluster_labels = clustering.labels_\n",
    "\n",
    "cluster_labels"
   ],
   "outputs": [
    {
     "output_type": "execute_result",
     "data": {
      "text/plain": [
       "array([2, 2, 2, ..., 0, 0, 2], dtype=int32)"
      ]
     },
     "metadata": {},
     "execution_count": 34
    }
   ],
   "metadata": {}
  },
  {
   "cell_type": "markdown",
   "source": [
    "## Compute avg age in the clusters "
   ],
   "metadata": {}
  },
  {
   "cell_type": "code",
   "execution_count": 35,
   "source": [
    "df = pd.read_excel('participants_concat.xlsx')"
   ],
   "outputs": [],
   "metadata": {}
  },
  {
   "cell_type": "code",
   "execution_count": 36,
   "source": [
    "from tqdm import tqdm \n",
    "\n",
    "clusters = [[] for i in range(NUM_CLUSTERS)]\n",
    "\n",
    "skipped = 0\n",
    "\n",
    "# Add up the ages of the participants in the samples \n",
    "for i in tqdm(range(len(cluster_labels))):\n",
    "    if len(np.array(df.loc[df['Subject'] == names[i]]['Age'])) > 0 and cluster_labels[i] != -1:\n",
    "        clusters[cluster_labels[i]].append(np.array(df.loc[df['Subject'] == names[i]]['Age'])[0])  \n",
    "    else: \n",
    "        skipped += 1\n",
    "\n",
    "skipped"
   ],
   "outputs": [
    {
     "output_type": "stream",
     "name": "stderr",
     "text": [
      "100%|██████████| 30842/30842 [00:46<00:00, 656.87it/s]\n"
     ]
    },
    {
     "output_type": "execute_result",
     "data": {
      "text/plain": [
       "286"
      ]
     },
     "metadata": {},
     "execution_count": 36
    }
   ],
   "metadata": {
    "tags": []
   }
  },
  {
   "cell_type": "code",
   "execution_count": 37,
   "source": [
    "for i, cluster in enumerate(clusters):\n",
    "    print(f\"cluster {i} has {len(cluster)} elements\")"
   ],
   "outputs": [
    {
     "output_type": "stream",
     "name": "stdout",
     "text": [
      "cluster 0 has 5856 elements\n",
      "cluster 1 has 2 elements\n",
      "cluster 2 has 24698 elements\n"
     ]
    }
   ],
   "metadata": {}
  },
  {
   "cell_type": "code",
   "execution_count": 38,
   "source": [
    "# Compute average age in each cluster \n",
    "mean_cluster = [-1 for i in range(NUM_CLUSTERS)]\n",
    "std_cluster = [-1 for i in range(NUM_CLUSTERS)]\n",
    "\n",
    "for i, cluster in enumerate(clusters):\n",
    "    if len(cluster) > 0:\n",
    "        mean_cluster[i] = np.mean(cluster)\n",
    "        std_cluster[i] = np.std(cluster)\n",
    "    else:\n",
    "        mean_cluster[i] = 0\n",
    "        std_cluster[i] = 0\n",
    "\n",
    "for i in range(len(mean_cluster)):\n",
    "    print(f\"Cluster {i}: mean: {mean_cluster[i]}, std: {std_cluster[i]}\")"
   ],
   "outputs": [
    {
     "output_type": "stream",
     "name": "stdout",
     "text": [
      "Cluster 0: mean: 14507.685280054644, std: 8155.387856565304\n",
      "Cluster 1: mean: 7335.0, std: 0.0\n",
      "Cluster 2: mean: 18244.5172888493, std: 8008.468232998567\n"
     ]
    }
   ],
   "metadata": {}
  },
  {
   "cell_type": "markdown",
   "source": [
    "## Plot the clusters "
   ],
   "metadata": {}
  },
  {
   "cell_type": "code",
   "execution_count": 39,
   "source": [
    "import matplotlib.pyplot as plt \n",
    "from matplotlib.patches import Rectangle\n",
    "\n",
    "OUTLIER_THRESH = 50 \n",
    "\n",
    "bars = []\n",
    "outliers = 0\n",
    "indices = []\n",
    "cnt = 0\n",
    "for i, cluster in enumerate(clusters):\n",
    "    if len(cluster) > OUTLIER_THRESH:\n",
    "        print(std_cluster[i])\n",
    "        indices.append(i)\n",
    "        bars.append(plt.bar(cnt, mean_cluster[i]/365, yerr=std_cluster[i]/365.0, capsize=10))\n",
    "        cnt += 1\n",
    "    else:\n",
    "        outliers +=1\n",
    "\n",
    "plt.xticks(np.arange(start=0, stop=NUM_CLUSTERS-outliers, step=1))\n",
    "plt.xlabel(\"Clusters\")\n",
    "plt.ylabel(\"Avg age per cluster in years\")\n",
    "axes = plt.gca()\n",
    "axes.set_ylim([0,80])\n",
    "plt.title(f\"Age clustering LR task\")\n",
    "plt.tight_layout()\n",
    "\n",
    "for i, bar in enumerate(bars):\n",
    "    for rect in bar:\n",
    "        height = rect.get_height()\n",
    "        plt.text(rect.get_x() + rect.get_width() / 2.0, 3, f'{len(clusters[indices[i]])}' + '\\n{0:.1f}'.format(mean_cluster[indices[i]] / 365.0) + '\\n{0:.1f}'.format(std_cluster[indices[i]] / 365.0), ha='center', va='bottom')\n",
    "\n",
    "plt.savefig(f\"./images/clustering/age_clustering_hilbert_feature_extraction_numclusters_{NUM_CLUSTERS}_{dataset}.png\")\n",
    "#plt.savefig(f\"./images/clustering/age_clustering_antisaccade_hilbert_numclusters_{NUM_CLUSTERS}_{dataset}.png\")\n",
    "plt.show()"
   ],
   "outputs": [
    {
     "output_type": "stream",
     "name": "stdout",
     "text": [
      "8155.387856565304\n",
      "8008.468232998567\n"
     ]
    },
    {
     "output_type": "display_data",
     "data": {
      "text/plain": [
       "<Figure size 640x480 with 1 Axes>"
      ],
      "image/png": "[encoded data removed]"
     },
     "metadata": {}
    }
   ],
   "metadata": {}
  },
  {
   "cell_type": "code",
   "execution_count": 40,
   "source": [
    "unique_0 = np.unique(clusters[0])\n",
    "len(unique_0)"
   ],
   "outputs": [
    {
     "output_type": "execute_result",
     "data": {
      "text/plain": [
       "255"
      ]
     },
     "metadata": {},
     "execution_count": 40
    }
   ],
   "metadata": {}
  },
  {
   "cell_type": "code",
   "execution_count": 41,
   "source": [
    "unique_1 = np.unique(clusters[1])\n",
    "len(unique_1)"
   ],
   "outputs": [
    {
     "output_type": "execute_result",
     "data": {
      "text/plain": [
       "1"
      ]
     },
     "metadata": {},
     "execution_count": 41
    }
   ],
   "metadata": {}
  },
  {
   "cell_type": "code",
   "execution_count": 42,
   "source": [
    "x = unique_0\n",
    "y = np.zeros_like(x)"
   ],
   "outputs": [],
   "metadata": {}
  },
  {
   "cell_type": "code",
   "execution_count": 43,
   "source": [
    "x = np.concatenate((x, unique_1))"
   ],
   "outputs": [],
   "metadata": {}
  },
  {
   "cell_type": "code",
   "execution_count": 44,
   "source": [
    "y = np.concatenate((y, np.ones_like(unique_1)))"
   ],
   "outputs": [],
   "metadata": {}
  },
  {
   "cell_type": "code",
   "execution_count": 45,
   "source": [
    "plt.scatter(y, x/365.0, alpha=0.008, s=500)\n",
    "plt.xticks(np.arange(start=0, stop=1.1, step=1))\n",
    "\n",
    "plt.savefig(f\"./images/clustering/age_clustering_scatter_hilbert_feature_extraction_numclusters_{NUM_CLUSTERS}_{dataset}.png\")\n",
    "\n",
    "plt.show()\n"
   ],
   "outputs": [
    {
     "output_type": "display_data",
     "data": {
      "text/plain": [
       "<Figure size 640x480 with 1 Axes>"
      ],
      "image/png": "[encoded data removed]"
     },
     "metadata": {}
    }
   ],
   "metadata": {}
  },
  {
   "cell_type": "code",
   "execution_count": 46,
   "source": [
    "old = np.array(clusters[0])\n",
    "young = np.array(clusters[1])"
   ],
   "outputs": [],
   "metadata": {}
  },
  {
   "cell_type": "code",
   "execution_count": 47,
   "source": [
    "correct_old = len(np.where(old > 35*365)[0])\n",
    "correct_old"
   ],
   "outputs": [
    {
     "output_type": "execute_result",
     "data": {
      "text/plain": [
       "2157"
      ]
     },
     "metadata": {},
     "execution_count": 47
    }
   ],
   "metadata": {}
  },
  {
   "cell_type": "code",
   "execution_count": 48,
   "source": [
    "accuracy_old = correct_old / len(old)\n",
    "accuracy_old"
   ],
   "outputs": [
    {
     "output_type": "execute_result",
     "data": {
      "text/plain": [
       "0.36834016393442626"
      ]
     },
     "metadata": {},
     "execution_count": 48
    }
   ],
   "metadata": {}
  },
  {
   "cell_type": "code",
   "execution_count": 49,
   "source": [
    "correct_young = len(np.where(young <= 35*365)[0])\n",
    "correct_young"
   ],
   "outputs": [
    {
     "output_type": "execute_result",
     "data": {
      "text/plain": [
       "2"
      ]
     },
     "metadata": {},
     "execution_count": 49
    }
   ],
   "metadata": {}
  },
  {
   "cell_type": "code",
   "execution_count": 50,
   "source": [
    "acc_young = correct_young / len(young)\n",
    "acc_young"
   ],
   "outputs": [
    {
     "output_type": "execute_result",
     "data": {
      "text/plain": [
       "1.0"
      ]
     },
     "metadata": {},
     "execution_count": 50
    }
   ],
   "metadata": {}
  },
  {
   "cell_type": "code",
   "execution_count": 51,
   "source": [
    "correct = len(np.where(old > 35*365)[0]) + len(np.where(young <= 35*365)[0])\n",
    "correct"
   ],
   "outputs": [
    {
     "output_type": "execute_result",
     "data": {
      "text/plain": [
       "2159"
      ]
     },
     "metadata": {},
     "execution_count": 51
    }
   ],
   "metadata": {}
  },
  {
   "cell_type": "code",
   "execution_count": 52,
   "source": [
    "accuracy = correct / (len(old) + len(young))\n",
    "accuracy"
   ],
   "outputs": [
    {
     "output_type": "execute_result",
     "data": {
      "text/plain": [
       "0.3685558210993513"
      ]
     },
     "metadata": {},
     "execution_count": 52
    }
   ],
   "metadata": {}
  },
  {
   "cell_type": "code",
   "execution_count": null,
   "source": [],
   "outputs": [],
   "metadata": {}
  }
 ]
}