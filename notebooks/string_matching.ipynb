{
 "cells": [
  {
   "cell_type": "code",
   "execution_count": 2,
   "source": [
    "import re "
   ],
   "outputs": [],
   "metadata": {}
  },
  {
   "cell_type": "code",
   "execution_count": 23,
   "source": [
    "model_name = 'CNN'\n",
    "filename = 'CNN_nb_0.pth'\n",
    "load_file_pattern = re.compile(model_name[:3] +  '.*.nb.*pth', re.IGNORECASE)\n",
    "load_file_pattern"
   ],
   "outputs": [
    {
     "output_type": "execute_result",
     "data": {
      "text/plain": [
       "re.compile(r'CNN.*.nb.*pth', re.IGNORECASE|re.UNICODE)"
      ]
     },
     "metadata": {},
     "execution_count": 23
    }
   ],
   "metadata": {}
  },
  {
   "cell_type": "code",
   "execution_count": 24,
   "source": [
    "print(load_file_pattern.match(filename))"
   ],
   "outputs": [
    {
     "output_type": "stream",
     "name": "stdout",
     "text": [
      "<re.Match object; span=(0, 12), match='CNN_nb_0.pth'>\n"
     ]
    }
   ],
   "metadata": {}
  },
  {
   "cell_type": "code",
   "execution_count": null,
   "source": [],
   "outputs": [],
   "metadata": {}
  }
 ],
 "metadata": {
  "orig_nbformat": 4,
  "language_info": {
   "name": "python",
   "version": "3.8.10",
   "mimetype": "text/x-python",
   "codemirror_mode": {
    "name": "ipython",
    "version": 3
   },
   "pygments_lexer": "ipython3",
   "nbconvert_exporter": "python",
   "file_extension": ".py"
  },
  "kernelspec": {
   "name": "python3",
   "display_name": "Python 3.8.10 64-bit ('tencu10': conda)"
  },
  "interpreter": {
   "hash": "8f5344764e0f04bcce31bbc52a3121fca7ea29968e43bd4760ac320bb9577d79"
  }
 },
 "nbformat": 4,
 "nbformat_minor": 2
}