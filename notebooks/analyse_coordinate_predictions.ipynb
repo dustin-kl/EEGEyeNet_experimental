{
 "cells": [
  {
   "cell_type": "code",
   "execution_count": 1,
   "source": [
    "import numpy as np\n",
    "import math"
   ],
   "outputs": [],
   "metadata": {}
  },
  {
   "cell_type": "code",
   "execution_count": 52,
   "source": [
    "data = np.load('./data/Position_task_with_dots_synchronised_min.npz')\n",
    "X = data['EEG']\n",
    "y = data['labels']"
   ],
   "outputs": [],
   "metadata": {}
  },
  {
   "cell_type": "code",
   "execution_count": 73,
   "source": [
    "scoring2 = (lambda y, y_pred: np.linalg.norm(y - y_pred, axis=0).mean()) # Euclidean distance"
   ],
   "outputs": [],
   "metadata": {}
  },
  {
   "cell_type": "code",
   "execution_count": 54,
   "source": [
    "cnn_pred = np.load('./runs/1631608603_Position_task_dots_min_pytorch_patience_10_lr_1e-05/checkpoint/run1/CNN_pred.npz')"
   ],
   "outputs": [],
   "metadata": {}
  },
  {
   "cell_type": "code",
   "execution_count": 55,
   "source": [
    "pred = cnn_pred['pred']"
   ],
   "outputs": [],
   "metadata": {}
  },
  {
   "cell_type": "code",
   "execution_count": 56,
   "source": [
    "import math \n",
    "\n",
    "def split(ids, train, val, test):\n",
    "    assert (train+val+test == 1)\n",
    "    IDs = np.unique(ids)\n",
    "    num_ids = len(IDs)\n",
    "\n",
    "    # priority given to the test/val sets\n",
    "    test_split = math.ceil(test * num_ids)\n",
    "    val_split = math.ceil(val * num_ids)\n",
    "    train_split = num_ids - val_split - test_split\n",
    "\n",
    "    train = np.isin(ids, IDs[:train_split])\n",
    "    val = np.isin(ids, IDs[train_split:train_split+val_split])\n",
    "    test = np.isin(ids, IDs[train_split+val_split:])\n",
    "\n",
    "    return train, val, test"
   ],
   "outputs": [],
   "metadata": {}
  },
  {
   "cell_type": "code",
   "execution_count": 57,
   "source": [
    "trainX = X \n",
    "trainY = y\n",
    "ids = trainY[:, 0]"
   ],
   "outputs": [],
   "metadata": {}
  },
  {
   "cell_type": "code",
   "execution_count": 58,
   "source": [
    "train, val, test = split(ids, 0.7, 0.15, 0.15)\n",
    "X_train, y_train = trainX[train], trainY[train]\n",
    "X_val, y_val = trainX[val], trainY[val]\n",
    "X_test, y_test = trainX[test], trainY[test]"
   ],
   "outputs": [],
   "metadata": {}
  },
  {
   "cell_type": "code",
   "execution_count": 59,
   "source": [
    "labels = y_test[:, 1:]\n",
    "labels"
   ],
   "outputs": [
    {
     "output_type": "execute_result",
     "data": {
      "text/plain": [
       "array([[392.7, 305.5],\n",
       "       [681.3, 508.6],\n",
       "       [389.5, 143.7],\n",
       "       ...,\n",
       "       [115.5, 306.1],\n",
       "       [732. , 310.3],\n",
       "       [632.2, 353.6]])"
      ]
     },
     "metadata": {},
     "execution_count": 59
    }
   ],
   "metadata": {}
  },
  {
   "cell_type": "code",
   "execution_count": 60,
   "source": [
    "pred"
   ],
   "outputs": [
    {
     "output_type": "execute_result",
     "data": {
      "text/plain": [
       "array([[398.8539 , 223.47581],\n",
       "       [534.44116, 303.25864],\n",
       "       [293.83344, 353.68942],\n",
       "       ...,\n",
       "       [109.53944, 289.58093],\n",
       "       [648.24115, 208.97931],\n",
       "       [337.35126, 266.7133 ]], dtype=float32)"
      ]
     },
     "metadata": {},
     "execution_count": 60
    }
   ],
   "metadata": {}
  },
  {
   "cell_type": "code",
   "execution_count": 61,
   "source": [
    "len(labels)"
   ],
   "outputs": [
    {
     "output_type": "execute_result",
     "data": {
      "text/plain": [
       "5201"
      ]
     },
     "metadata": {},
     "execution_count": 61
    }
   ],
   "metadata": {}
  },
  {
   "cell_type": "code",
   "execution_count": 71,
   "source": [
    "len(pred)"
   ],
   "outputs": [
    {
     "output_type": "execute_result",
     "data": {
      "text/plain": [
       "5201"
      ]
     },
     "metadata": {},
     "execution_count": 71
    }
   ],
   "metadata": {}
  },
  {
   "cell_type": "code",
   "execution_count": 69,
   "source": [
    "scoring2(labels, pred)"
   ],
   "outputs": [
    {
     "output_type": "execute_result",
     "data": {
      "text/plain": [
       "152.53453823871163"
      ]
     },
     "metadata": {},
     "execution_count": 69
    }
   ],
   "metadata": {}
  },
  {
   "cell_type": "code",
   "execution_count": 63,
   "source": [
    "scoring2(labels[0], pred[0][0])"
   ],
   "outputs": [
    {
     "output_type": "execute_result",
     "data": {
      "text/plain": [
       "93.55652616981153"
      ]
     },
     "metadata": {},
     "execution_count": 63
    }
   ],
   "metadata": {}
  },
  {
   "cell_type": "code",
   "execution_count": 74,
   "source": [
    "# screen is 800 x 600\n",
    "\n",
    "CENTER_X = 400\n",
    "CENTER_Y = 300 \n",
    "\n",
    "bins = [[] for i in range(4)]\n",
    "strings = [\"bin 0: quadrant 1\", \n",
    "\"bin 1: quadrant 2\",\n",
    "\"bin 2: quadrant 3\",\n",
    "\"bin 3: quadrant 4\"]\n",
    "for i in range(len(labels)):\n",
    "\tx,y = labels[i]\n",
    "\tif x >= CENTER_X and y >= CENTER_Y:\n",
    "\t\tbins[0].append(scoring2(np.array([x,y]), pred[i]))\n",
    "\telif x < CENTER_X and y >= CENTER_Y:\n",
    "\t\tbins[1].append(scoring2(np.array([x,y]), pred[i]))\n",
    "\telif x < CENTER_X and y < CENTER_Y:\n",
    "\t\tbins[2].append(scoring2(np.array([x,y]), pred[i]))\n",
    "\telif x >= CENTER_X and y < CENTER_Y:\n",
    "\t\tbins[3].append(scoring2(np.array([x,y]), pred[i]))"
   ],
   "outputs": [],
   "metadata": {}
  },
  {
   "cell_type": "code",
   "execution_count": 75,
   "source": [
    "sum([len(list) for list in bins])"
   ],
   "outputs": [
    {
     "output_type": "execute_result",
     "data": {
      "text/plain": [
       "5201"
      ]
     },
     "metadata": {},
     "execution_count": 75
    }
   ],
   "metadata": {}
  },
  {
   "cell_type": "code",
   "execution_count": 76,
   "source": [
    "for list, string in zip(bins, strings):\n",
    "\tprint(f\"{string}: mean euclidian dist {np.average(np.array(list)):.3f}, std: {np.std(np.array(list)):2f}, on {len(list)} samples\")"
   ],
   "outputs": [
    {
     "output_type": "stream",
     "name": "stdout",
     "text": [
      "bin 0: quadrant 1: mean euclidian dist 144.805, std: 86.515833, on 1560 samples\n",
      "bin 1: quadrant 2: mean euclidian dist 176.678, std: 102.653861, on 1232 samples\n",
      "bin 2: quadrant 3: mean euclidian dist 138.569, std: 94.247046, on 1092 samples\n",
      "bin 3: quadrant 4: mean euclidian dist 150.684, std: 84.611185, on 1317 samples\n"
     ]
    }
   ],
   "metadata": {}
  },
  {
   "cell_type": "code",
   "execution_count": null,
   "source": [],
   "outputs": [],
   "metadata": {}
  }
 ],
 "metadata": {
  "orig_nbformat": 4,
  "language_info": {
   "name": "python",
   "version": "3.8.10",
   "mimetype": "text/x-python",
   "codemirror_mode": {
    "name": "ipython",
    "version": 3
   },
   "pygments_lexer": "ipython3",
   "nbconvert_exporter": "python",
   "file_extension": ".py"
  },
  "kernelspec": {
   "name": "python3",
   "display_name": "Python 3.8.10 64-bit ('tencu10': conda)"
  },
  "interpreter": {
   "hash": "8f5344764e0f04bcce31bbc52a3121fca7ea29968e43bd4760ac320bb9577d79"
  }
 },
 "nbformat": 4,
 "nbformat_minor": 2
}